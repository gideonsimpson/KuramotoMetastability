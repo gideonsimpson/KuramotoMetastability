{
 "cells": [
  {
   "cell_type": "markdown",
   "metadata": {},
   "source": [
    "Evaluate convergence of the Eyring-Kramers constants to the predicted $n\\to \\infty$ limits."
   ]
  },
  {
   "cell_type": "code",
   "execution_count": null,
   "metadata": {},
   "outputs": [],
   "source": [
    "using Plots\n",
    "using Printf\n",
    "using Random\n",
    "using LaTeXStrings\n",
    "using LinearAlgebra\n",
    "using ForwardDiff"
   ]
  },
  {
   "cell_type": "code",
   "execution_count": null,
   "metadata": {},
   "outputs": [],
   "source": [
    "default(xtickfontsize=14, ytickfontsize=14,\n",
    "    guidefontsize=14, legendfontsize=12, lw=2, ms=8)"
   ]
  },
  {
   "cell_type": "code",
   "execution_count": null,
   "metadata": {},
   "outputs": [],
   "source": [
    "push!(LOAD_PATH, \"../TwistedStates\");\n",
    "push!(LOAD_PATH, \"../ClassicalKuramoto\");"
   ]
  },
  {
   "cell_type": "code",
   "execution_count": null,
   "metadata": {},
   "outputs": [],
   "source": [
    "using TwistedStates\n",
    "using ClassicalKuramoto"
   ]
  },
  {
   "cell_type": "markdown",
   "metadata": {},
   "source": [
    "# Prefactor\n",
    "$$\n",
    "\\begin{split}\n",
    "C(q,n) &= \\frac{1}{n}\\frac{2\\pi }{|\\mu_1|}\\sqrt{\\frac{|\\mu_1| \\mu_2\\cdots\\mu_{n-1}}{\\lambda_1\\lambda_2\\cdots \\lambda_{n-1}}}\\\\\n",
    "& = \\frac{1}{K n }\\frac{1}{\\cos(2\\pi \\hat{q}/n)}\\frac{1}{|\\nu_1|}\\left(\\frac{\\cos(2\\pi \\hat{q}/n)}{\\cos(2\\pi (q+1)/n)}\\right)^{n/2}\\sqrt{\\frac{|\\nu_1|\\nu_2\\cdots \\nu_{n-1}}{\\lambda_1^{\\circ}\\lambda_2^{\\circ}\\cdots \\lambda_{n-1}^{\\circ}}}\n",
    "\\end{split}\n",
    "$$\n",
    "where\n",
    "$$\n",
    "\\begin{align}\n",
    "\\nu_1&= -\\frac{4}{3} + \\mathrm{O}(3^{-n})\\\\\n",
    "\\cos(2\\pi \\hat{q}/n) & = 1 +\\mathrm{O}(n^{-2})\\\\\n",
    "\\left(\\frac{\\cos(2\\pi \\hat{q}/n)}{\\cos(2\\pi (q+1)/n)}\\right)^{n/2} & = 1 + \\frac{\\pi^2(3+4q)}{4n} + \\mathrm{O}(n^{-2})\\\\\n",
    "\\sqrt{\\frac{|\\nu_1|\\nu_2\\cdots \\nu_{n-1}}{\\lambda_1^{\\circ}\\lambda_2^{\\circ}\\cdots \\lambda_{n-1}^{\\circ}}}&  = \\sqrt{1-2/n} = 1 - 1/n + \\mathrm{O}(n^{-2})\n",
    "\\end{align}\n",
    "$$"
   ]
  },
  {
   "cell_type": "markdown",
   "metadata": {},
   "source": [
    "Thus, \n",
    "$$\n",
    "n \\cdot K \\cdot C(q,n) = \\frac{3}{4} \\cdot \\left[1 + \\left(\\frac{\\pi^2(3+4q)}{4}-1\\right) \\frac{1}{n}\\right]\\cdot + \\mathrm{O}(n^{-2})\n",
    "$$"
   ]
  },
  {
   "cell_type": "markdown",
   "metadata": {},
   "source": [
    "# Define functions\n",
    "These are used for visualization"
   ]
  },
  {
   "cell_type": "code",
   "execution_count": null,
   "metadata": {},
   "outputs": [],
   "source": [
    "k = 1;\n",
    "α = 0;\n",
    "E = u -> ClassicalKuramoto.energy(u, k, α);\n",
    "\n",
    "# compute exact energy barrier\n",
    "function ΔE(n,q)\n",
    "    q_init = construct_q_twisted(n, q+1)\n",
    "    q_saddle = construct_l_saddle(n, q)\n",
    "    return E(q_saddle) - E(q_init)\n",
    "end\n",
    "\n",
    "# asymptotic formula\n",
    "function ΔE_asympt(n,q)\n",
    "    return 1/π - (q+3/4)*π/n\n",
    "end\n",
    "\n",
    "# use automatic differentiation for the Hessian\n",
    "HessE(u) = ForwardDiff.hessian(E, u);\n",
    "\n",
    "# compute exact scaled prefactor\n",
    "function nC(n,q)\n",
    "    q_init = construct_q_twisted(n, q+1)\n",
    "    q_saddle = construct_l_saddle(n, q)\n",
    "\n",
    "    evals_min = eigvals(HessE(q_init));\n",
    "    nonzero_evals_min = evals_min[2:end];\n",
    "    evals_saddle = eigvals(HessE(q_saddle));\n",
    "    nonzero_evals_saddle = [evals_saddle[1]; evals_saddle[3:end]];\n",
    "    C_ = (2 * π) / (abs(nonzero_evals_saddle[1])) * sqrt(prod(abs.(nonzero_evals_saddle) ./ (nonzero_evals_min)));\n",
    "    return C_\n",
    "end\n",
    "\n",
    "# asymptotic formula\n",
    "function nC_asympt(n, q)\n",
    "    C_ = .75 * (1+ (π^2 * (4*q+3)-4)/(4*n))\n",
    "    return C_\n",
    "end\n",
    "\n"
   ]
  },
  {
   "cell_type": "markdown",
   "metadata": {},
   "source": [
    "# Visualize\n",
    "Plot several different cases"
   ]
  },
  {
   "cell_type": "code",
   "execution_count": null,
   "metadata": {},
   "outputs": [],
   "source": [
    "q = 0;\n",
    "n_vals = 5 * 2 .^ (2:1:8);\n",
    "scatter(n_vals, [abs(ΔE(n_, q) - ΔE_asympt(n_, q)) for n_ in n_vals],\n",
    "    xscale=:log10, yscale=:log10, label=L\"$K^{-1}H_{q+1}$ Error\")\n",
    "scatter!(n_vals, [abs(nC(n_, q) - nC_asympt(n_, q)) for n_ in n_vals], \n",
    "    label=L\"$nK C(q,n)$ Error\", marker=:d)\n",
    "plot!(n_vals, n_vals.^(-2),color=:black, ls=:dash, label=L\"$\\propto n^{-2}$\")\n",
    "xlabel!(L\"n\")\n",
    "plot!(legend=:topright)\n",
    "title!(latexstring(@sprintf(\"q = %d\", q)))"
   ]
  },
  {
   "cell_type": "code",
   "execution_count": null,
   "metadata": {},
   "outputs": [],
   "source": [
    "q = 1;\n",
    "n_vals = 5 * 2 .^ (2:1:8);\n",
    "scatter(n_vals, [abs(ΔE(n_, q) - ΔE_asympt(n_, q)) for n_ in n_vals],\n",
    "    xscale=:log10, yscale=:log10, label=L\"$K^{-1}H_{q+1}$ Error\")\n",
    "scatter!(n_vals, [abs(nC(n_, q) - nC_asympt(n_, q)) for n_ in n_vals], \n",
    "    label=L\"$nK C(q,n)$ Error\", marker=:d)\n",
    "plot!(n_vals, 10 * n_vals .^ (-2), color=:black, ls=:dash, label=L\"$\\propto n^{-2}$\")\n",
    "xlabel!(L\"n\")\n",
    "plot!(legend=:topright)\n",
    "title!(latexstring(@sprintf(\"q = %d\", q)))\n"
   ]
  },
  {
   "cell_type": "code",
   "execution_count": null,
   "metadata": {},
   "outputs": [],
   "source": [
    "q = 2;\n",
    "n_vals = 5 * 2 .^ (2:1:8);\n",
    "scatter(n_vals, [abs(ΔE(n_, q) - ΔE_asympt(n_, q)) for n_ in n_vals],\n",
    "    xscale=:log10, yscale=:log10, label=L\"$K^{-1}H_{q+1}$ Error\")\n",
    "scatter!(n_vals, [abs(nC(n_, q) - nC_asympt(n_, q)) for n_ in n_vals], \n",
    "    label=L\"$nK C(q,n)$ Error\", marker=:d)\n",
    "plot!(n_vals, 100 * n_vals .^ (-2), color=:black, ls=:dash, label=L\"$\\propto n^{-2}$\")\n",
    "xlabel!(L\"n\")\n",
    "plot!(legend=:topright)\n",
    "title!(latexstring(@sprintf(\"q = %d\", q)))"
   ]
  },
  {
   "cell_type": "code",
   "execution_count": null,
   "metadata": {},
   "outputs": [],
   "source": [
    "q = 3;\n",
    "n_vals = 5 * 2 .^ (2:1:8);\n",
    "scatter(n_vals, [abs(ΔE(n_, q) - ΔE_asympt(n_, q)) for n_ in n_vals],\n",
    "    xscale=:log10, yscale=:log10, label=L\"$K^{-1}H_{q+1}$ Error\")\n",
    "scatter!(n_vals, [abs(nC(n_, q) - nC_asympt(n_, q)) for n_ in n_vals],\n",
    "    label=L\"$nK C(q,n)$ Error\", marker=:d)\n",
    "plot!(n_vals, 100 * n_vals .^ (-2), color=:black, ls=:dash, label=L\"$\\propto n^{-2}$\")\n",
    "xlabel!(L\"n\")\n",
    "plot!(legend=:topright)\n",
    "title!(latexstring(@sprintf(\"q = %d\", q)))"
   ]
  }
 ],
 "metadata": {
  "kernelspec": {
   "display_name": "Julia 1.11.6",
   "language": "julia",
   "name": "julia-1.11"
  },
  "language_info": {
   "file_extension": ".jl",
   "mimetype": "application/julia",
   "name": "julia",
   "version": "1.11.6"
  }
 },
 "nbformat": 4,
 "nbformat_minor": 2
}

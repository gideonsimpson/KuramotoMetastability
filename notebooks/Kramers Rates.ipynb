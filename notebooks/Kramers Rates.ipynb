{
 "cells": [
  {
   "cell_type": "markdown",
   "metadata": {},
   "source": [
    "# Description\n",
    "\n",
    "Visualize the Eyring-Kramers formula and compare it with first passage times obtained by using, for instance, `distfpt.jl` from the `scripts` folder."
   ]
  },
  {
   "cell_type": "code",
   "execution_count": null,
   "metadata": {},
   "outputs": [],
   "source": [
    "using Plots\n",
    "using Printf\n",
    "using Random\n",
    "using LaTeXStrings\n",
    "using DSP\n",
    "using LinearAlgebra\n",
    "using ForwardDiff\n",
    "using Statistics\n",
    "using JLD2\n",
    "using StatsPlots"
   ]
  },
  {
   "cell_type": "code",
   "execution_count": null,
   "metadata": {},
   "outputs": [],
   "source": [
    "default(xtickfontsize=14, ytickfontsize=14,\n",
    "    guidefontsize=14,\n",
    "    legendfontsize=12, lw=2, ms=8)"
   ]
  },
  {
   "cell_type": "code",
   "execution_count": null,
   "metadata": {},
   "outputs": [],
   "source": [
    "push!(LOAD_PATH, \"../GeneralizedKuramoto\");\n",
    "push!(LOAD_PATH, \"../QProcesses\");\n",
    "push!(LOAD_PATH, \"../GraphMatrices\");\n",
    "push!(LOAD_PATH, \"../TwistedStates\");\n",
    "push!(LOAD_PATH, \"../ClassicalKuramoto\");"
   ]
  },
  {
   "cell_type": "code",
   "execution_count": null,
   "metadata": {},
   "outputs": [],
   "source": [
    "using GeneralizedKuramoto\n",
    "using QProcesses\n",
    "using GraphMatrices\n",
    "using TwistedStates\n",
    "using ClassicalKuramoto"
   ]
  },
  {
   "cell_type": "markdown",
   "metadata": {},
   "source": [
    "# Set parameters"
   ]
  },
  {
   "cell_type": "code",
   "execution_count": null,
   "metadata": {},
   "outputs": [],
   "source": [
    "n = 10; # number of sites\n",
    "k = 1;  # interaction range, k=1 is nearest neighbors\n",
    "q = 1;  # initial twisted state\n",
    "α = 0;  # attractive coupling"
   ]
  },
  {
   "cell_type": "markdown",
   "metadata": {},
   "source": [
    "# Precompute constants\n",
    "To use the Eyring-Kramers formula, we must compute the energy barrier, `ΔE`  and the prefactor, `C`, in \n",
    "$$\n",
    "MFPT \\asymp C \\exp\\left(\\Delta E\\right)\n",
    "$$"
   ]
  },
  {
   "cell_type": "code",
   "execution_count": null,
   "metadata": {},
   "outputs": [],
   "source": [
    "\n",
    "q1 = TwistedStates.construct_q_twisted(n, q);\n",
    "q0 = TwistedStates.construct_q_twisted(n, q - 1);\n",
    "\n",
    "l = q - 1;\n",
    "q_saddle = (2 * l + 1) * n / (2 * (n - 2)) * (0:n-1) / n; #analytic\n",
    "# prepare interaction matrix\n",
    "K = GraphMatrices.discrete_knn_spmatrix(n, k);\n",
    "\n",
    "# compute hessian by automatic differentiation\n",
    "E = u -> ClassicalKuramoto.energy(u, K, α);\n",
    "HessE(u) = ForwardDiff.hessian(E, u);\n",
    "gradE(u) = ForwardDiff.gradient(E, u);\n",
    "\n",
    "@show E(q1);\n",
    "@show E(q0);\n",
    "@show E(q_saddle);\n",
    "@show E(q1) - E(q0);\n",
    "@show E(q_saddle) - E(q1);\n",
    "@show E(q_saddle) - E(q0);\n",
    "ΔE = E(q_saddle) - E(q1);\n",
    "@show ΔE;\n",
    "\n",
    "evals_min = eigvals(HessE(q1));\n",
    "nonzero_evals_min = evals_min[2:end];\n",
    "evals_saddle = eigvals(HessE(q_saddle));\n",
    "nonzero_evals_saddle = [evals_saddle[1]; evals_saddle[3:end]];\n",
    "C = (2 * π / n) / abs(nonzero_evals_saddle[1]) * sqrt(abs(prod(nonzero_evals_saddle)) / prod(nonzero_evals_min));\n",
    "@show C;"
   ]
  },
  {
   "cell_type": "markdown",
   "metadata": {},
   "source": [
    "# Load data"
   ]
  },
  {
   "cell_type": "code",
   "execution_count": null,
   "metadata": {},
   "outputs": [],
   "source": [
    "filepath = \"/path/to/data\";\n",
    "\n",
    "β_vals = [10, 20, 30, 40, 50];\n",
    "n_samples = 10^4;\n",
    "\n",
    "filenames = [\"fpt2_n10_q1_k1_N10000_beta10_dt0_01_tmax10000_s1000.jld2\",\n",
    "    \"fpt2_n10_q1_k1_N10000_beta20_dt0_01_tmax10000_s1000.jld2\",\n",
    "    \"fpt2_n10_q1_k1_N10000_beta30_dt0_01_tmax10000_s1000.jld2\",\n",
    "    \"fpt2_n10_q1_k1_N10000_beta40_dt0_01_tmax10000_s1000.jld2\",\n",
    "    \"fpt2_n10_q1_k1_N10000_beta50_dt0_01_tmax10000_s1000.jld2\"]\n",
    "t_exit_vals = Array{Float64,1}[];\n",
    "for name in filenames\n",
    "    data = jldopen(filepath * \"/\" * name)\n",
    "    @show var(data[\"E_exit_values\"])\n",
    "    @show mean(data[\"t_exit_values\"])\n",
    "    @show maximum(data[\"t_exit_values\"])\n",
    "    push!(t_exit_vals, data[\"t_exit_values\"])\n",
    "end\n",
    "\n",
    "T_vals = zeros(n_samples, length(filenames),);\n",
    "\n",
    "for (i, name) in enumerate(filenames)\n",
    "    data = jldopen(filepath * \"/\" * name)\n",
    "    T_vals[:, i] .= data[\"t_exit_values\"]\n",
    "end"
   ]
  },
  {
   "cell_type": "markdown",
   "metadata": {},
   "source": [
    "# Visualize"
   ]
  },
  {
   "cell_type": "code",
   "execution_count": null,
   "metadata": {},
   "outputs": [],
   "source": [
    "bar_width=5;\n",
    "\n",
    "boxplot([β_vals[1]], T_vals[:, 1], legend=:topleft, yscale=:log10, bar_width=bar_width, label=\"Samples\")\n",
    "for j in 2:length(β_vals)\n",
    "    boxplot!([β_vals[j]], T_vals[:, j], color=1, bar_width=bar_width, label=\"\")\n",
    "end\n",
    "β_ = LinRange(5, 55, 10)\n",
    "ylims!(10^-1.5, 10^2.5)\n",
    "plot!(β_, C * exp.(β_ * ΔE),\n",
    "    label=L\"C(q,n)\\exp\\left(H_{q+1}/\\epsilon\\right)\", color=2, lw=4, ls=:dash)\n",
    "xlabel!(L\"1/\\epsilon\")\n",
    "yticks!(10.0 .^ (-1:1:2))\n",
    "# ylabel!(\"MFPT\")\n",
    "ylabel!(\"First Passage Time\")\n"
   ]
  }
 ],
 "metadata": {
  "kernelspec": {
   "display_name": "Julia 1.11.6",
   "language": "julia",
   "name": "julia-1.11"
  },
  "language_info": {
   "file_extension": ".jl",
   "mimetype": "application/julia",
   "name": "julia",
   "version": "1.11.6"
  }
 },
 "nbformat": 4,
 "nbformat_minor": 2
}

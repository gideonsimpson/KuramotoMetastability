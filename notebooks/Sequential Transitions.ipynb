{
 "cells": [
  {
   "cell_type": "markdown",
   "id": "2161a3b3",
   "metadata": {},
   "source": [
    "# Description \n",
    "\n",
    "Integrates a single trajectory with $n=20$, $k=1$ (nearest neighbors), starting with a $q=3$ twisted state."
   ]
  },
  {
   "cell_type": "code",
   "execution_count": null,
   "id": "recorded-territory",
   "metadata": {},
   "outputs": [],
   "source": [
    "using Plots\n",
    "using Printf\n",
    "using Random\n",
    "using LaTeXStrings\n",
    "using DSP\n",
    "using LinearAlgebra\n",
    "using ForwardDiff\n",
    "using NLsolve\n",
    "using Plots.Measures"
   ]
  },
  {
   "cell_type": "code",
   "execution_count": null,
   "id": "b6d06abf-0481-4ed4-a8cf-1e0e9abbc786",
   "metadata": {},
   "outputs": [],
   "source": [
    "default(xtickfontsize=14,  ytickfontsize=14, \n",
    "    guidefontsize=14, \n",
    "    legendfontsize=12, lw=2,ms=4)"
   ]
  },
  {
   "cell_type": "code",
   "execution_count": null,
   "id": "improving-tourism",
   "metadata": {},
   "outputs": [],
   "source": [
    "push!(LOAD_PATH, \"../GeneralizedKuramoto\");\n",
    "push!(LOAD_PATH, \"../QProcesses\");\n",
    "push!(LOAD_PATH, \"../GraphMatrices\");\n",
    "push!(LOAD_PATH, \"../TwistedStates\");\n",
    "push!(LOAD_PATH, \"../ClassicalKuramoto\");"
   ]
  },
  {
   "cell_type": "code",
   "execution_count": null,
   "id": "healthy-grade",
   "metadata": {},
   "outputs": [],
   "source": [
    "using GeneralizedKuramoto\n",
    "using QProcesses\n",
    "using GraphMatrices\n",
    "using TwistedStates\n",
    "using ClassicalKuramoto"
   ]
  },
  {
   "attachments": {},
   "cell_type": "markdown",
   "id": "interpreted-sunglasses",
   "metadata": {},
   "source": [
    "# Parameter choices"
   ]
  },
  {
   "cell_type": "code",
   "execution_count": null,
   "id": "19e40ac5",
   "metadata": {},
   "outputs": [],
   "source": [
    "n = 20;     # number of sites\n",
    "k = 1;      # interaction range, nearest neighbors\n",
    "q = 3;      # initial twisted state\n",
    "Δt = 1e-2;  # tiem step\n",
    "α = 0;      # attractive coupling\n",
    "σ = 0.2;    # noise intensity\n"
   ]
  },
  {
   "cell_type": "markdown",
   "id": "2ca999e8",
   "metadata": {},
   "source": [
    "# Prepare data"
   ]
  },
  {
   "cell_type": "code",
   "execution_count": null,
   "id": "41e97ac5",
   "metadata": {},
   "outputs": [],
   "source": [
    "\n",
    "u₀ = TwistedStates.construct_q_twisted(n, q);\n",
    "u = mod.(copy(u₀), 1);"
   ]
  },
  {
   "cell_type": "markdown",
   "id": "c4ebdd76",
   "metadata": {},
   "source": [
    "# Set solver for integration"
   ]
  },
  {
   "cell_type": "code",
   "execution_count": null,
   "id": "plain-count",
   "metadata": {},
   "outputs": [],
   "source": [
    "# prepare interaction matrix\n",
    "K = 1/k * GraphMatrices.discrete_knn_spmatrix(n,k);\n",
    "\n",
    "# prepare sampler\n",
    "Q_sampler = let σ = σ, n = n\n",
    "    ()-> QProcesses.IsoGaussian(σ,n)\n",
    "end\n",
    "\n",
    "# prepare nonlinearity\n",
    "f = (t,u)-> 0.0;\n",
    "# this si the repulsive coupling\n",
    "S = let α = α\n",
    "    (u,v)-> (-1)^(α) * sinpi(2 *(v-u));\n",
    "end\n",
    "\n",
    "E = u-> ClassicalKuramoto.energy(u,K,α);\n",
    "∇E = u->ForwardDiff.gradient(E,u);\n",
    "HessE = u->ForwardDiff.hessian(E,u);\n",
    "\n",
    "# set time stepping parameters\n",
    "tmax = 1e3;\n",
    "Δt_save = 1e-2;\n",
    "@show nΔt = Int(tmax/Δt);\n",
    "@show nsave = Int(Δt_save/Δt);\n",
    "# nsave = 1; # save every nsave frames\n"
   ]
  },
  {
   "cell_type": "code",
   "execution_count": null,
   "id": "d6d400de-36c0-435c-adf3-f2992bae4105",
   "metadata": {},
   "outputs": [],
   "source": [
    "@show E(u₀);\n",
    "@show eigmin(HessE(u₀));"
   ]
  },
  {
   "cell_type": "code",
   "execution_count": null,
   "id": "276375a2-84a1-4225-a78b-78cf87a39076",
   "metadata": {},
   "outputs": [],
   "source": [
    "scatter(1:n, u₀,label=\"IC\")"
   ]
  },
  {
   "cell_type": "markdown",
   "id": "f6ceba4d",
   "metadata": {},
   "source": [
    "# Integrate the trajectory"
   ]
  },
  {
   "cell_type": "code",
   "execution_count": null,
   "id": "formal-music",
   "metadata": {},
   "outputs": [],
   "source": [
    "Random.seed!(100);\n",
    "t_trajectory, u_trajectory = GeneralizedKuramoto.EulerMaruyama(u₀, f, K, \n",
    "    S, Q_sampler, \n",
    "    Δt, nΔt, nsave = nsave, \n",
    "    verbose=false);"
   ]
  },
  {
   "attachments": {},
   "cell_type": "markdown",
   "id": "failing-simpson",
   "metadata": {},
   "source": [
    "# Visualize transitions"
   ]
  },
  {
   "cell_type": "code",
   "execution_count": null,
   "id": "9df36a35-eca1-423a-bb4d-3faabf748b73",
   "metadata": {},
   "outputs": [],
   "source": [
    "#\n",
    "idx_vals = [1, 101, 175, 236, 271, 501];\n",
    "\n",
    "plot(t_trajectory[1:1:end],E.(u_trajectory[1:1:end]),label=\"\")\n",
    "scatter!(t_trajectory[idx_vals], [E(u_trajectory[i]) for i in idx_vals],\n",
    "    label=\"\", ms = 6)\n",
    "\n",
    "pt_labels = [\"(i)\", \"(ii)\", \"(iii)\", \"(iv)\", \"(v)\", \"(vi)\"]\n",
    "pt_xoffsets = [0.3, 0.2,0.3, -0.1, 0.3, 0.2, 0.2];\n",
    "pt_yoffsets = [-0.1, -0.1, -0.1, -0.1, 0.1, +0.2, -0.2];\n",
    "for (i,idx) in enumerate(idx_vals)\n",
    "    annotate!(t_trajectory[idx]+pt_xoffsets[i], E(u_trajectory[idx])+pt_yoffsets[i], (pt_labels[i],:red))\n",
    "end\n",
    "xlabel!(L\"$t$\")\n",
    "ylabel!(\"Energy\")\n",
    "xlims!(0,6)\n"
   ]
  },
  {
   "cell_type": "code",
   "execution_count": null,
   "id": "e6b7818b-cd1d-467f-9d19-d67e618b98fe",
   "metadata": {},
   "outputs": [],
   "source": [
    "#\n",
    "idx_vals = [1, 101, 175, 236, 271, 501,50001+1065,90001];\n",
    "\n",
    "plot(t_trajectory[1:1:end],E.(u_trajectory[1:1:end]),label=\"\", \n",
    "    xaxis=(:log10, [1e-2, :auto]), right_margin = 2 *Plots.mm)\n",
    "scatter!(t_trajectory[idx_vals], [E(u_trajectory[i]) for i in idx_vals],\n",
    "    label=\"\", ms = 6)\n",
    "pt_labels = [\"(ii)\", \"(iii)\", \"(iv)\", \"(v)\", \"(vi)\", \"(vii)\", \"(viii)\"]\n",
    "pt_xoffsets = [0.2, 1, -0.4, 1.8, 0.2, 0.2, 0.2];\n",
    "pt_yoffsets = [-0.1, -0.1, -0.1, -0.1, -0.2, +0.1, -0.2];\n",
    "for (i,idx) in enumerate(idx_vals[2:end])\n",
    "    annotate!(t_trajectory[idx]+pt_xoffsets[i], E(u_trajectory[idx])+pt_yoffsets[i], (pt_labels[i],:red))\n",
    "end\n",
    "xlabel!(L\"$t$\")\n",
    "ylabel!(\"Energy\")"
   ]
  },
  {
   "cell_type": "markdown",
   "id": "070ba36f",
   "metadata": {},
   "source": [
    "Visualize the particular farmes associated with the points in the energy time series.  Change the value of `idx` to see different points in the trajectory."
   ]
  },
  {
   "cell_type": "code",
   "execution_count": null,
   "id": "08424c03-8c07-45c5-89c5-283f4c9b252b",
   "metadata": {},
   "outputs": [],
   "source": [
    "idx_vals = [1, 101, 175, 236, 271, 501,50001+1065,90001];\n",
    "idx = idx_vals[3]\n",
    "scatter((0:n-1), mod.(u_trajectory[idx].-u_trajectory[idx][1],1),label=\"\")\n",
    "title!(latexstring(@sprintf(\"t = %.2f\", t_trajectory[idx])));\n",
    "ylims!(-0.1, 1.1)\n"
   ]
  }
 ],
 "metadata": {
  "kernelspec": {
   "display_name": "Julia 1.11.6",
   "language": "julia",
   "name": "julia-1.11"
  },
  "language_info": {
   "file_extension": ".jl",
   "mimetype": "application/julia",
   "name": "julia",
   "version": "1.11.6"
  }
 },
 "nbformat": 4,
 "nbformat_minor": 5
}

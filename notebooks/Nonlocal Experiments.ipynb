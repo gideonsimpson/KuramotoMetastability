{
 "cells": [
  {
   "cell_type": "markdown",
   "metadata": {},
   "source": [
    "# Description\n",
    "\n",
    "Examine the asymptotic behavior of the Eyring-Kramers formula constants (energy barrier and prefactor) in the nonlocal case ($k>1$), varying the number of sites, $n$.  This requires running string method using, for instance, `nonlocal.jl` from the `scripts` folder."
   ]
  },
  {
   "cell_type": "code",
   "execution_count": null,
   "metadata": {},
   "outputs": [],
   "source": [
    "using Plots\n",
    "using Printf\n",
    "using Random\n",
    "using LaTeXStrings\n",
    "using LinearAlgebra\n",
    "using ForwardDiff\n",
    "using JLD2"
   ]
  },
  {
   "cell_type": "code",
   "execution_count": null,
   "metadata": {},
   "outputs": [],
   "source": [
    "default(xtickfontsize=14, ytickfontsize=14,\n",
    "    guidefontsize=14, legendfontsize=12, lw=2, ms=8)"
   ]
  },
  {
   "cell_type": "code",
   "execution_count": null,
   "metadata": {},
   "outputs": [],
   "source": [
    "push!(LOAD_PATH, \"../TwistedStates\");\n",
    "push!(LOAD_PATH, \"../ClassicalKuramoto\");"
   ]
  },
  {
   "cell_type": "code",
   "execution_count": null,
   "metadata": {},
   "outputs": [],
   "source": [
    "using GraphMatrices\n",
    "using TwistedStates\n",
    "using ClassicalKuramoto"
   ]
  },
  {
   "cell_type": "markdown",
   "metadata": {},
   "source": [
    "# Set Parameters"
   ]
  },
  {
   "cell_type": "code",
   "execution_count": null,
   "metadata": {},
   "outputs": [],
   "source": [
    "k = 2; # k > 1 is nonlocal coupling\n",
    "α = 0;\n",
    "q_vals = [1, 2, 3, 4]; # twisted states to examine\n",
    "E = u -> ClassicalKuramoto.energy(u, k, α);\n",
    "HessE(u) = ForwardDiff.hessian(E, u);"
   ]
  },
  {
   "cell_type": "markdown",
   "metadata": {},
   "source": [
    "# Load Data"
   ]
  },
  {
   "cell_type": "code",
   "execution_count": null,
   "metadata": {},
   "outputs": [],
   "source": [
    "filepath = \"/Users/grs53/Library/CloudStorage/OneDrive-DrexelUniversity/simulation_data/kuramoto/nonlocal\";\n",
    "filenames = [\"nonlocal2_q1_k2_nmin10_nmax1280_dt0_01_N100.jld2\",\n",
    "    \"nonlocal2_q2_k2_nmin20_nmax1280_dt0_01_N100.jld2\",\n",
    "    \"nonlocal2_q3_k2_nmin40_nmax1280_dt0_01_N100.jld2\",\n",
    "    \"nonlocal2_q4_k2_nmin40_nmax1280_dt0_01_N200.jld2\"]\n",
    "\n",
    "\n",
    "n_vals=[];\n",
    "saddle_states=[];\n",
    "string_paths = [];\n",
    "\n",
    "for name in filenames\n",
    "    data = jldopen(filepath * \"/\" * name);\n",
    "    push!(n_vals, deepcopy(data[\"n_vals\"]))\n",
    "    push!(saddle_states, deepcopy(data[\"saddle_states\"]))\n",
    "    push!(string_paths, deepcopy(data[\"string_paths\"]))\n",
    "end"
   ]
  },
  {
   "cell_type": "markdown",
   "metadata": {},
   "source": [
    "# Compute Constants"
   ]
  },
  {
   "cell_type": "code",
   "execution_count": null,
   "metadata": {},
   "outputs": [],
   "source": [
    "ΔE_vals = [];\n",
    "C_vals = [];\n",
    "for q in q_vals\n",
    "    @show q;\n",
    "    ΔE_vals_ = Float64[]\n",
    "    C_vals_ = Float64[];\n",
    "    for (n, saddle) in zip(n_vals[q], saddle_states[q])\n",
    "        u_left = construct_q_twisted(n, q)\n",
    "        @show n\n",
    "        @show ΔE = E(saddle) - E(u_left)\n",
    "        evals_min = eigvals(HessE(u_left))\n",
    "        nonzero_evals_min = evals_min[2:end]\n",
    "        evals_saddle = eigvals(HessE(saddle))\n",
    "        nonzero_evals_saddle = [evals_saddle[1]; evals_saddle[3:end]]\n",
    "        C_ = (2 * π) / (abs(nonzero_evals_saddle[1])) * sqrt(prod(abs.(nonzero_evals_saddle) ./ (nonzero_evals_min)))\n",
    "        push!(ΔE_vals_, ΔE)\n",
    "        push!(C_vals_, C_)\n",
    "    end\n",
    "    push!(ΔE_vals, deepcopy(ΔE_vals_))\n",
    "    push!(C_vals, deepcopy(C_vals_))\n",
    "end"
   ]
  },
  {
   "cell_type": "code",
   "execution_count": null,
   "metadata": {},
   "outputs": [],
   "source": [
    "markers = [:circle, :rect, :diamond, :hexagon]"
   ]
  },
  {
   "cell_type": "code",
   "execution_count": null,
   "metadata": {},
   "outputs": [],
   "source": [
    "q = 1;\n",
    "scatter(n_vals[q], ΔE_vals[q], label=latexstring(@sprintf(\"q = %d\", q - 1)), marker=markers[q],xscale=:log10)\n",
    "for q in q_vals[2:end]\n",
    "    scatter!(n_vals[q], ΔE_vals[q], label=latexstring(@sprintf(\"q = %d\", q - 1)), marker=markers[q])\n",
    "end\n",
    "xlabel!(L\"n\")\n",
    "ylabel!(L\"H_{q+1}\")\n",
    "title!(latexstring(@sprintf(\"k = %d\", k)))\n"
   ]
  },
  {
   "cell_type": "code",
   "execution_count": null,
   "metadata": {},
   "outputs": [],
   "source": [
    "q = 1;\n",
    "scatter(n_vals[q], kramer_vals[q], label=latexstring(@sprintf(\"q = %d\", q - 1)), marker=markers[q], xscale=:log10)\n",
    "for q in q_vals[2:end]\n",
    "    scatter!(n_vals[q], kramer_vals[q], label=latexstring(@sprintf(\"q = %d\", q - 1)), marker=markers[q])\n",
    "end\n",
    "\n",
    "xlabel!(L\"n\")\n",
    "ylabel!(L\"n C(n,q)\")\n",
    "title!(latexstring(@sprintf(\"k = %d\", k)))\n"
   ]
  }
 ],
 "metadata": {
  "kernelspec": {
   "display_name": "Julia 1.11.6",
   "language": "julia",
   "name": "julia-1.11"
  },
  "language_info": {
   "file_extension": ".jl",
   "mimetype": "application/julia",
   "name": "julia",
   "version": "1.11.6"
  }
 },
 "nbformat": 4,
 "nbformat_minor": 2
}

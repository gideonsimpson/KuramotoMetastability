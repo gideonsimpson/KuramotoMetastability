{
 "cells": [
  {
   "cell_type": "markdown",
   "id": "53878473",
   "metadata": {},
   "source": [
    "# Description\n",
    "Example of a first passage time computation for a twisted state."
   ]
  },
  {
   "cell_type": "code",
   "execution_count": null,
   "id": "1460390a",
   "metadata": {},
   "outputs": [],
   "source": [
    "using Plots\n",
    "using Printf\n",
    "using Random\n",
    "using LaTeXStrings\n",
    "using DSP\n",
    "using LinearAlgebra\n",
    "using ForwardDiff\n",
    "using Optimization\n",
    "using OptimizationOptimJL\n",
    "using Plots.Measures"
   ]
  },
  {
   "cell_type": "code",
   "execution_count": null,
   "id": "9c59932c",
   "metadata": {},
   "outputs": [],
   "source": [
    "default(xtickfontsize=14,  ytickfontsize=14, \n",
    "    guidefontsize=14, \n",
    "    legendfontsize=12, lw=2,ms=4)"
   ]
  },
  {
   "cell_type": "code",
   "execution_count": null,
   "id": "f54ce375",
   "metadata": {},
   "outputs": [],
   "source": [
    "push!(LOAD_PATH, \"../GeneralizedKuramoto\");\n",
    "push!(LOAD_PATH, \"../QProcesses\");\n",
    "push!(LOAD_PATH, \"../GraphMatrices\");\n",
    "push!(LOAD_PATH, \"../TwistedStates\");\n",
    "push!(LOAD_PATH, \"../ClassicalKuramoto\");"
   ]
  },
  {
   "cell_type": "code",
   "execution_count": null,
   "id": "e4457945",
   "metadata": {},
   "outputs": [],
   "source": [
    "using GeneralizedKuramoto\n",
    "using QProcesses\n",
    "using GraphMatrices\n",
    "using TwistedStates\n",
    "using ClassicalKuramoto"
   ]
  },
  {
   "cell_type": "markdown",
   "id": "19ac274c",
   "metadata": {},
   "source": [
    "# Parameter choices"
   ]
  },
  {
   "cell_type": "code",
   "execution_count": null,
   "id": "f69cbe56",
   "metadata": {},
   "outputs": [],
   "source": [
    "n = 10;         # number of sites\n",
    "k = 1;          # interaction range\n",
    "q = 1;          # initial twisted state\n",
    "Δt = 1e-2;      # time step\n",
    "β = 40.0;       # inverse temperature\n",
    "α = 0;          # attractive interactions\n",
    "X = 1.0;        # spatial domain [0,1)\n",
    "tmax = 10^2;    # time of integration\n",
    "Δt_save = Δt;   # frequency of saving\n"
   ]
  },
  {
   "cell_type": "markdown",
   "id": "a58116ac",
   "metadata": {},
   "source": [
    "# Prepare data"
   ]
  },
  {
   "cell_type": "code",
   "execution_count": null,
   "id": "e90f8557",
   "metadata": {},
   "outputs": [],
   "source": [
    "u0 = mod.(TwistedStates.construct_q_twisted(n, q), 1);"
   ]
  },
  {
   "cell_type": "markdown",
   "id": "7551b6d4",
   "metadata": {},
   "source": [
    "# Set solver for integration"
   ]
  },
  {
   "cell_type": "code",
   "execution_count": null,
   "id": "5e5f2737",
   "metadata": {},
   "outputs": [],
   "source": [
    "maxΔt = Int(tmax / Δt);\n",
    "nsave = Int(Δt_save / Δt);\n",
    "\n",
    "# prepare interaction matrix\n",
    "K = 1 / (2 * k + 1) * GraphMatrices.discrete_knn_spmatrix(n, k);\n",
    "# K = GraphMatrices.discrete_knn_spmatrix(n, k)\n",
    "\n",
    "σ = sqrt(2/β);\n",
    "# prepare sampler\n",
    "Q_sampler = let σ = σ, n = n\n",
    "    () -> QProcesses.IsoGaussian(σ, n);\n",
    "end\n",
    "# prepare nonlinearity\n",
    "f = (t, u) -> 0.0\n",
    "# coupling\n",
    "S = let α = α\n",
    "    (u, v) -> (-1)^(α) * sinpi(2 * (v - u));\n",
    "end\n"
   ]
  },
  {
   "cell_type": "markdown",
   "id": "1fd254eb",
   "metadata": {},
   "source": [
    "Construct functions for detecting transitions out of the state (well).  At each time step:\n",
    "* Given the current values of $\\{u_i(t)\\}$ stored in vector `u`, minimize the energy by BFGS methods, with this `u` as a the initial guess.\n",
    "* When the minimized energy changes from the current value, stored in `Einit`, we conclude that the system has switched basins of attraction on the energy landscape; we have shifted states."
   ]
  },
  {
   "cell_type": "code",
   "execution_count": null,
   "id": "b18e86e5",
   "metadata": {},
   "outputs": [],
   "source": [
    "# energy function\n",
    "E = u -> ClassicalKuramoto.energy(u, K, α);\n",
    "\n",
    "# optimization function\n",
    "opt_func = OptimizationFunction((v, p) -> E([0; v]), Optimization.AutoForwardDiff())\n",
    "opt_prob = OptimizationProblem(opt_func, u0[2:end])\n",
    "soln = solve(opt_prob, BFGS())\n",
    "Einit = soln.objective\n",
    "\n",
    "function in_well(u; tol=1e-6)\n",
    "    opt_prob.u0 .= unwrap(u .- u[1], range=1)[2:end]\n",
    "    soln = solve(opt_prob, BFGS())\n",
    "    return Bool(abs(soln.objective - Einit) < tol)\n",
    "end\n"
   ]
  },
  {
   "cell_type": "markdown",
   "id": "6fe3f3b3",
   "metadata": {},
   "source": [
    "# Integrate the trajectory"
   ]
  },
  {
   "cell_type": "code",
   "execution_count": null,
   "id": "64567254",
   "metadata": {},
   "outputs": [],
   "source": [
    "Random.seed!(123);\n",
    "t_trajectory, u_trajectory = GeneralizedKuramoto.EulerMaruyamaFPT(u0, in_well, f, K, S, Q_sampler, Δt, maxΔt, nsave=nsave, verbose=false);\n",
    "println(\"First exit time\");\n",
    "@show t_trajectory[end];\n"
   ]
  },
  {
   "cell_type": "markdown",
   "id": "df2780eb",
   "metadata": {},
   "source": [
    "# Visualize trajectory"
   ]
  },
  {
   "cell_type": "code",
   "execution_count": null,
   "id": "04d47973",
   "metadata": {},
   "outputs": [],
   "source": [
    "anim = @animate for i=1:length(t_trajectory)\n",
    "    scatter(1:n, mod.(u_trajectory[i],1),label=\"\")\n",
    "    ylims!(-0.1, 1.1);\n",
    "    title!(@sprintf(\"t = %g\", t_trajectory[i]));\n",
    "end\n",
    "gif(anim, fps = 15)"
   ]
  }
 ],
 "metadata": {
  "kernelspec": {
   "display_name": "Julia 1.11.6",
   "language": "julia",
   "name": "julia-1.11"
  },
  "language_info": {
   "file_extension": ".jl",
   "mimetype": "application/julia",
   "name": "julia",
   "version": "1.11.6"
  }
 },
 "nbformat": 4,
 "nbformat_minor": 5
}
